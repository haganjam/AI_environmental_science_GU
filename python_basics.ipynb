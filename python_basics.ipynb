{
 "cells": [
  {
   "cell_type": "code",
   "execution_count": 1,
   "id": "73b0664c",
   "metadata": {},
   "outputs": [
    {
     "name": "stdout",
     "output_type": "stream",
     "text": [
      "print this line please\n"
     ]
    }
   ],
   "source": [
    "# print() function\n",
    "print(\"print this line please\")"
   ]
  },
  {
   "cell_type": "code",
   "execution_count": 2,
   "id": "77dab3f9",
   "metadata": {},
   "outputs": [
    {
     "data": {
      "text/plain": [
       "1"
      ]
     },
     "execution_count": 2,
     "metadata": {},
     "output_type": "execute_result"
    }
   ],
   "source": [
    "# python assigns variables using =\n",
    "x = 1\n",
    "x"
   ]
  },
  {
   "cell_type": "code",
   "execution_count": 3,
   "id": "87bb4e8c",
   "metadata": {},
   "outputs": [
    {
     "name": "stdout",
     "output_type": "stream",
     "text": [
      "1\n",
      "7.8\n"
     ]
    }
   ],
   "source": [
    "# python supports two types of numbers:\n",
    "\n",
    "# 1 integers\n",
    "my_integer = 1\n",
    "print(my_integer)\n",
    "\n",
    "# 2 floating point numbers\n",
    "my_float = 7.8\n",
    "print(my_float)"
   ]
  },
  {
   "cell_type": "code",
   "execution_count": null,
   "id": "64806fdc",
   "metadata": {},
   "outputs": [],
   "source": [
    "# python also supports string"
   ]
  }
 ],
 "metadata": {
  "kernelspec": {
   "display_name": "Python 3 (ipykernel)",
   "language": "python",
   "name": "python3"
  },
  "language_info": {
   "codemirror_mode": {
    "name": "ipython",
    "version": 3
   },
   "file_extension": ".py",
   "mimetype": "text/x-python",
   "name": "python",
   "nbconvert_exporter": "python",
   "pygments_lexer": "ipython3",
   "version": "3.9.7"
  }
 },
 "nbformat": 4,
 "nbformat_minor": 5
}
