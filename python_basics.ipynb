{
 "cells": [
  {
   "cell_type": "code",
   "execution_count": 1,
   "id": "4195d06c",
   "metadata": {},
   "outputs": [
    {
     "name": "stdout",
     "output_type": "stream",
     "text": [
      "print this line please\n"
     ]
    }
   ],
   "source": [
    "# print() function\n",
    "print(\"print this line please\")"
   ]
  },
  {
   "cell_type": "code",
   "execution_count": 2,
   "id": "3396889e",
   "metadata": {},
   "outputs": [
    {
     "data": {
      "text/plain": [
       "1"
      ]
     },
     "execution_count": 2,
     "metadata": {},
     "output_type": "execute_result"
    }
   ],
   "source": [
    "# python assigns variables using =\n",
    "x = 1\n",
    "x"
   ]
  },
  {
   "cell_type": "code",
   "execution_count": 3,
   "id": "8adffe58",
   "metadata": {},
   "outputs": [
    {
     "name": "stdout",
     "output_type": "stream",
     "text": [
      "1\n",
      "7.8\n"
     ]
    }
   ],
   "source": [
    "# python supports two types of numbers:\n",
    "\n",
    "# 1 integers\n",
    "my_integer = 1\n",
    "print(my_integer)\n",
    "\n",
    "# 2 floating point numbers\n",
    "my_float = 7.8\n",
    "print(my_float)"
   ]
  },
  {
   "cell_type": "code",
   "execution_count": 4,
   "id": "0792ff79",
   "metadata": {},
   "outputs": [
    {
     "name": "stdout",
     "output_type": "stream",
     "text": [
      "4\n",
      "5\n",
      "56\n",
      "50\n"
     ]
    }
   ],
   "source": [
    "# python is a simple calculator that supports a range of mathematical operators\n",
    "\n",
    "# addition\n",
    "\n",
    "print(2 + 2)\n",
    "\n",
    "# subtraction\n",
    "\n",
    "print(10 - 5)\n",
    "\n",
    "# multiplication\n",
    "\n",
    "print(8*7)\n",
    "\n",
    "# combinations using regular parentheses\n",
    "\n",
    "print( (10-5) * 10 )"
   ]
  },
  {
   "cell_type": "code",
   "execution_count": 8,
   "id": "e60db9c2",
   "metadata": {},
   "outputs": [
    {
     "name": "stdout",
     "output_type": "stream",
     "text": [
      "1.8571428571428572\n",
      "3\n",
      "6\n"
     ]
    }
   ],
   "source": [
    "# division is a bit more complicated because of the remainders\n",
    "\n",
    "# simple division returns floating point\n",
    "\n",
    "print( 13/7 )\n",
    "\n",
    "# floor division using double // discards the fractional part\n",
    "\n",
    "print( 27//7 )\n",
    "\n",
    "# the percentage sign (%) only returns the remainder\n",
    "\n",
    "print( 27 % 7 )"
   ]
  },
  {
   "cell_type": "code",
   "execution_count": 9,
   "id": "5ddb6cc2",
   "metadata": {},
   "outputs": [
    {
     "name": "stdout",
     "output_type": "stream",
     "text": [
      "4\n",
      "8\n"
     ]
    }
   ],
   "source": [
    "# powers in Python are calculated using ** (not ^ like in R)\n",
    "\n",
    "print( 2**2 )\n",
    "\n",
    "print( 2 ** 3)"
   ]
  },
  {
   "cell_type": "code",
   "execution_count": null,
   "id": "c27ad148",
   "metadata": {},
   "outputs": [],
   "source": []
  },
  {
   "cell_type": "code",
   "execution_count": null,
   "id": "417291f2",
   "metadata": {},
   "outputs": [],
   "source": []
  },
  {
   "cell_type": "code",
   "execution_count": 8,
   "id": "e909f413",
   "metadata": {},
   "outputs": [
    {
     "name": "stdout",
     "output_type": "stream",
     "text": [
      "hello1 hello2\n",
      "excuse me, that's kate's sweater\n"
     ]
    }
   ],
   "source": [
    "# python also supports strings\n",
    "\n",
    "# strings are defined by either:\n",
    "\n",
    "# 1. single quotes ''\n",
    "hello1 = 'hello1'\n",
    "\n",
    "# 2. double quotes \"\"\n",
    "hello2 = \"hello2\"\n",
    "\n",
    "print(hello1, hello2)\n",
    "\n",
    "# the only practical difference is that using double quotes means you can have single quotes e.g. apostrophes in the string\n",
    "stringer = \"excuse me, that's kate's sweater\"\n",
    "\n",
    "print(stringer)"
   ]
  },
  {
   "cell_type": "code",
   "execution_count": 12,
   "id": "228c8639",
   "metadata": {},
   "outputs": [
    {
     "name": "stdout",
     "output_type": "stream",
     "text": [
      "doesn't\n",
      "\"hello\"\n"
     ]
    }
   ],
   "source": [
    "# note that you can also use a \\ to escape quotes. This means that you can include apostrophes etc. in the string\n",
    "\n",
    "print( 'doesn\\'t' )\n",
    "\n",
    "print( \"\\\"hello\\\"\" )"
   ]
  },
  {
   "cell_type": "code",
   "execution_count": 13,
   "id": "d7b24550",
   "metadata": {},
   "outputs": [
    {
     "name": "stdout",
     "output_type": "stream",
     "text": [
      "C:\\some\n",
      "ame\n",
      "C:\\some\\name\n"
     ]
    }
   ],
   "source": [
    "# in python, we have a few special characters e.g. \\n means new line\n",
    "\n",
    "# but, sometimes, we don't want to the \\n to be interpreted as as a special character\n",
    "\n",
    "# to fix this, we need to tell python to use raw strings by putting an r before the string\n",
    "\n",
    "print('C:\\some\\name')\n",
    "\n",
    "print(r'C:\\some\\name')"
   ]
  },
  {
   "cell_type": "code",
   "execution_count": 9,
   "id": "563199ab",
   "metadata": {},
   "outputs": [
    {
     "name": "stdout",
     "output_type": "stream",
     "text": [
      "hello world\n"
     ]
    }
   ],
   "source": [
    "# python is also different from R in that you can perform operators on strings\n",
    "hello = \"hello\"\n",
    "world = \"world\"\n",
    "helloworld = hello + \" \" + world\n",
    "print(helloworld)"
   ]
  },
  {
   "cell_type": "code",
   "execution_count": 1,
   "id": "fcb80d3e",
   "metadata": {},
   "outputs": [
    {
     "ename": "TypeError",
     "evalue": "unsupported operand type(s) for +: 'int' and 'str'",
     "output_type": "error",
     "traceback": [
      "\u001b[1;31m---------------------------------------------------------------------------\u001b[0m",
      "\u001b[1;31mTypeError\u001b[0m                                 Traceback (most recent call last)",
      "\u001b[1;32m~\\AppData\\Local\\Temp/ipykernel_13528/4063149785.py\u001b[0m in \u001b[0;36m<module>\u001b[1;34m\u001b[0m\n\u001b[0;32m      3\u001b[0m \u001b[0mb\u001b[0m \u001b[1;33m=\u001b[0m \u001b[1;36m2\u001b[0m\u001b[1;33m\u001b[0m\u001b[1;33m\u001b[0m\u001b[0m\n\u001b[0;32m      4\u001b[0m \u001b[0mc\u001b[0m \u001b[1;33m=\u001b[0m \u001b[1;34m\"hello\"\u001b[0m\u001b[1;33m\u001b[0m\u001b[1;33m\u001b[0m\u001b[0m\n\u001b[1;32m----> 5\u001b[1;33m \u001b[0mprint\u001b[0m\u001b[1;33m(\u001b[0m\u001b[0ma\u001b[0m \u001b[1;33m+\u001b[0m \u001b[0mb\u001b[0m \u001b[1;33m+\u001b[0m \u001b[0mc\u001b[0m\u001b[1;33m)\u001b[0m\u001b[1;33m\u001b[0m\u001b[1;33m\u001b[0m\u001b[0m\n\u001b[0m",
      "\u001b[1;31mTypeError\u001b[0m: unsupported operand type(s) for +: 'int' and 'str'"
     ]
    }
   ],
   "source": [
    "# but, you cannot mix strings and numbers with operators\n",
    "a = 1\n",
    "b = 2\n",
    "c = \"hello\"\n",
    "print(a + b + c)"
   ]
  },
  {
   "cell_type": "code",
   "execution_count": 10,
   "id": "722cf55f",
   "metadata": {},
   "outputs": [
    {
     "name": "stdout",
     "output_type": "stream",
     "text": [
      "2 3\n"
     ]
    }
   ],
   "source": [
    "# python differs from R in that we can assign multiple objects simultaneously\n",
    "\n",
    "a, b = 2, 3\n",
    "\n",
    "print(a, b)"
   ]
  },
  {
   "cell_type": "code",
   "execution_count": null,
   "id": "dff5010f",
   "metadata": {},
   "outputs": [],
   "source": [
    "# lists\n",
    "\n",
    "mylist = []\n",
    "mylist.append(1)\n",
    "mylist.append(2)\n",
    "mylist.append(3)\n",
    "print(mylist[0]) # prints 1\n",
    "print(mylist[1]) # prints 2\n",
    "print(mylist[2]) # prints 3\n",
    "\n",
    "# prints out 1,2,3\n",
    "for x in mylist:\n",
    "    print(x)"
   ]
  }
 ],
 "metadata": {
  "kernelspec": {
   "display_name": "Python 3 (ipykernel)",
   "language": "python",
   "name": "python3"
  },
  "language_info": {
   "codemirror_mode": {
    "name": "ipython",
    "version": 3
   },
   "file_extension": ".py",
   "mimetype": "text/x-python",
   "name": "python",
   "nbconvert_exporter": "python",
   "pygments_lexer": "ipython3",
   "version": "3.9.7"
  }
 },
 "nbformat": 4,
 "nbformat_minor": 5
}
