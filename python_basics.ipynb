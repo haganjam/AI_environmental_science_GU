{
 "cells": [
  {
   "cell_type": "code",
   "execution_count": 1,
   "id": "4195d06c",
   "metadata": {},
   "outputs": [
    {
     "name": "stdout",
     "output_type": "stream",
     "text": [
      "print this line please\n"
     ]
    }
   ],
   "source": [
    "# print() function\n",
    "print(\"print this line please\")"
   ]
  },
  {
   "cell_type": "code",
   "execution_count": 2,
   "id": "3396889e",
   "metadata": {},
   "outputs": [
    {
     "data": {
      "text/plain": [
       "1"
      ]
     },
     "execution_count": 2,
     "metadata": {},
     "output_type": "execute_result"
    }
   ],
   "source": [
    "# python assigns variables using =\n",
    "x = 1\n",
    "x"
   ]
  },
  {
   "cell_type": "code",
   "execution_count": 3,
   "id": "8adffe58",
   "metadata": {},
   "outputs": [
    {
     "name": "stdout",
     "output_type": "stream",
     "text": [
      "1\n",
      "7.8\n"
     ]
    }
   ],
   "source": [
    "# python supports two types of numbers:\n",
    "\n",
    "# 1 integers\n",
    "my_integer = 1\n",
    "print(my_integer)\n",
    "\n",
    "# 2 floating point numbers\n",
    "my_float = 7.8\n",
    "print(my_float)"
   ]
  },
  {
   "cell_type": "code",
   "execution_count": 8,
   "id": "e909f413",
   "metadata": {},
   "outputs": [
    {
     "name": "stdout",
     "output_type": "stream",
     "text": [
      "hello1 hello2\n",
      "excuse me, that's kate's sweater\n"
     ]
    }
   ],
   "source": [
    "# python also supports strings\n",
    "\n",
    "# strings are defined by either:\n",
    "\n",
    "# 1. single quotes ''\n",
    "hello1 = 'hello1'\n",
    "\n",
    "# 2. double quotes \"\"\n",
    "hello2 = \"hello2\"\n",
    "\n",
    "print(hello1, hello2)\n",
    "\n",
    "# the only practical difference is that using double quotes means you can have single quotes e.g. apostrophes in the string\n",
    "stringer = \"excuse me, that's kate's sweater\"\n",
    "\n",
    "print(stringer)"
   ]
  },
  {
   "cell_type": "code",
   "execution_count": 9,
   "id": "563199ab",
   "metadata": {},
   "outputs": [
    {
     "name": "stdout",
     "output_type": "stream",
     "text": [
      "hello world\n"
     ]
    }
   ],
   "source": [
    "# python is also different from R in that you can perform operators on strings\n",
    "hello = \"hello\"\n",
    "world = \"world\"\n",
    "helloworld = hello + \" \" + world\n",
    "print(helloworld)"
   ]
  },
  {
   "cell_type": "code",
   "execution_count": 10,
   "id": "722cf55f",
   "metadata": {},
   "outputs": [
    {
     "name": "stdout",
     "output_type": "stream",
     "text": [
      "2 3\n"
     ]
    }
   ],
   "source": [
    "# python differs from R in that we can assign multiple objects simultaneously\n",
    "\n",
    "a, b = 2, 3\n",
    "\n",
    "print(a, b)"
   ]
  }
 ],
 "metadata": {
  "kernelspec": {
   "display_name": "Python 3 (ipykernel)",
   "language": "python",
   "name": "python3"
  },
  "language_info": {
   "codemirror_mode": {
    "name": "ipython",
    "version": 3
   },
   "file_extension": ".py",
   "mimetype": "text/x-python",
   "name": "python",
   "nbconvert_exporter": "python",
   "pygments_lexer": "ipython3",
   "version": "3.9.7"
  }
 },
 "nbformat": 4,
 "nbformat_minor": 5
}
