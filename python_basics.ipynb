{
 "cells": [
  {
   "cell_type": "code",
   "execution_count": 1,
   "id": "4195d06c",
   "metadata": {},
   "outputs": [
    {
     "name": "stdout",
     "output_type": "stream",
     "text": [
      "print this line please\n"
     ]
    }
   ],
   "source": [
    "# print() function\n",
    "print(\"print this line please\")"
   ]
  },
  {
   "cell_type": "code",
   "execution_count": 2,
   "id": "3396889e",
   "metadata": {},
   "outputs": [
    {
     "data": {
      "text/plain": [
       "1"
      ]
     },
     "execution_count": 2,
     "metadata": {},
     "output_type": "execute_result"
    }
   ],
   "source": [
    "# python assigns variables using =\n",
    "x = 1\n",
    "x"
   ]
  },
  {
   "cell_type": "code",
   "execution_count": 3,
   "id": "8adffe58",
   "metadata": {},
   "outputs": [
    {
     "name": "stdout",
     "output_type": "stream",
     "text": [
      "1\n",
      "7.8\n"
     ]
    }
   ],
   "source": [
    "# python supports two types of numbers:\n",
    "\n",
    "# 1 integers\n",
    "my_integer = 1\n",
    "print(my_integer)\n",
    "\n",
    "# 2 floating point numbers\n",
    "my_float = 7.8\n",
    "print(my_float)"
   ]
  },
  {
   "cell_type": "code",
   "execution_count": 4,
   "id": "640a5b9a",
   "metadata": {},
   "outputs": [
    {
     "name": "stdout",
     "output_type": "stream",
     "text": [
      "4\n",
      "5\n",
      "56\n",
      "50\n"
     ]
    }
   ],
   "source": [
    "# python is a simple calculator that supports a range of mathematical operators\n",
    "\n",
    "# addition\n",
    "\n",
    "print(2 + 2)\n",
    "\n",
    "# subtraction\n",
    "\n",
    "print(10 - 5)\n",
    "\n",
    "# multiplication\n",
    "\n",
    "print(8*7)\n",
    "\n",
    "# combinations using regular parentheses\n",
    "\n",
    "print( (10-5) * 10 )"
   ]
  },
  {
   "cell_type": "code",
   "execution_count": 8,
   "id": "db3fcb5a",
   "metadata": {},
   "outputs": [
    {
     "name": "stdout",
     "output_type": "stream",
     "text": [
      "1.8571428571428572\n",
      "3\n",
      "6\n"
     ]
    }
   ],
   "source": [
    "# division is a bit more complicated because of the remainders\n",
    "\n",
    "# simple division returns floating point\n",
    "\n",
    "print( 13/7 )\n",
    "\n",
    "# floor division using double // discards the fractional part\n",
    "\n",
    "print( 27//7 )\n",
    "\n",
    "# the percentage sign (%) only returns the remainder\n",
    "\n",
    "print( 27 % 7 )"
   ]
  },
  {
   "cell_type": "code",
   "execution_count": 9,
   "id": "2546fb2c",
   "metadata": {},
   "outputs": [
    {
     "name": "stdout",
     "output_type": "stream",
     "text": [
      "4\n",
      "8\n"
     ]
    }
   ],
   "source": [
    "# powers in Python are calculated using ** (not ^ like in R)\n",
    "\n",
    "print( 2**2 )\n",
    "\n",
    "print( 2 ** 3)"
   ]
  },
  {
   "cell_type": "code",
   "execution_count": 8,
   "id": "e909f413",
   "metadata": {},
   "outputs": [
    {
     "name": "stdout",
     "output_type": "stream",
     "text": [
      "hello1 hello2\n",
      "excuse me, that's kate's sweater\n"
     ]
    }
   ],
   "source": [
    "# python also supports strings\n",
    "\n",
    "# strings are defined by either:\n",
    "\n",
    "# 1. single quotes ''\n",
    "hello1 = 'hello1'\n",
    "\n",
    "# 2. double quotes \"\"\n",
    "hello2 = \"hello2\"\n",
    "\n",
    "print(hello1, hello2)\n",
    "\n",
    "# the only practical difference is that using double quotes means you can have single quotes e.g. apostrophes in the string\n",
    "stringer = \"excuse me, that's kate's sweater\"\n",
    "\n",
    "print(stringer)"
   ]
  },
  {
   "cell_type": "code",
   "execution_count": 12,
   "id": "1766be07",
   "metadata": {},
   "outputs": [
    {
     "name": "stdout",
     "output_type": "stream",
     "text": [
      "doesn't\n",
      "\"hello\"\n"
     ]
    }
   ],
   "source": [
    "# note that you can also use a \\ to escape quotes. This means that you can include apostrophes etc. in the string\n",
    "\n",
    "print( 'doesn\\'t' )\n",
    "\n",
    "print( \"\\\"hello\\\"\" )"
   ]
  },
  {
   "cell_type": "code",
   "execution_count": 13,
   "id": "197445e2",
   "metadata": {},
   "outputs": [
    {
     "name": "stdout",
     "output_type": "stream",
     "text": [
      "C:\\some\n",
      "ame\n",
      "C:\\some\\name\n"
     ]
    }
   ],
   "source": [
    "# in python, we have a few special characters e.g. \\n means new line\n",
    "\n",
    "# but, sometimes, we don't want to the \\n to be interpreted as as a special character\n",
    "\n",
    "# to fix this, we need to tell python to use raw strings by putting an r before the string\n",
    "\n",
    "print('C:\\some\\name')\n",
    "\n",
    "print(r'C:\\some\\name')"
   ]
  },
  {
   "cell_type": "code",
   "execution_count": 14,
   "id": "8d5b2c78",
   "metadata": {},
   "outputs": [
    {
     "name": "stdout",
     "output_type": "stream",
     "text": [
      " \"hello\" \n"
     ]
    }
   ],
   "source": [
    "# in addition, python has a useful syntax of triple quotations\n",
    "\n",
    "# the triple quotations have a range of uses\n",
    "\n",
    "# 1. you don't have to escape quotations in a string\n",
    "\n",
    "x = \"\"\" \"hello\" \"\"\"\n",
    "print(x)"
   ]
  },
  {
   "cell_type": "code",
   "execution_count": 15,
   "id": "5bb4627b",
   "metadata": {},
   "outputs": [
    {
     "name": "stdout",
     "output_type": "stream",
     "text": [
      "5\n"
     ]
    }
   ],
   "source": [
    "# 2. you can write multi-line comments\n",
    "\n",
    "\"\"\"this is a very long comment that looks weird\n",
    "when you put it all in one line\"\"\"\n",
    "\n",
    "x = 5\n",
    "print(x)"
   ]
  },
  {
   "cell_type": "code",
   "execution_count": 16,
   "id": "c6d16244",
   "metadata": {},
   "outputs": [
    {
     "name": "stdout",
     "output_type": "stream",
     "text": [
      "\n",
      "\n",
      "UPDATE X if:\n",
      "\n",
      "     1. TRUE\n",
      "     \n",
      "     2. FALSE\n",
      "     \n",
      "     3. NA\n",
      "\n",
      "\n"
     ]
    }
   ],
   "source": [
    "# 3. you can write multiline strings\n",
    "\n",
    "x = \"\"\"\n",
    "\n",
    "UPDATE X if:\n",
    "\n",
    "     1. TRUE\n",
    "     \n",
    "     2. FALSE\n",
    "     \n",
    "     3. NA\n",
    "\n",
    "\"\"\"\n",
    "\n",
    "print(x)"
   ]
  },
  {
   "cell_type": "code",
   "execution_count": 22,
   "id": "5529c4db",
   "metadata": {},
   "outputs": [
    {
     "name": "stdout",
     "output_type": "stream",
     "text": [
      "\n",
      "UPDATE X if:\n",
      "\n",
      "     1. TRUE\n",
      "     \n",
      "     2. FALSE\n",
      "     \n",
      "     3. NA \n",
      "\n",
      "\n",
      "TRUE FALSE NA \n",
      "\n"
     ]
    }
   ],
   "source": [
    "# you can also remove the end-of-lines and tell Python to continue on the next line using the backslash\n",
    "\n",
    "# this allows you to either remove the end of line characters or to make a new string for each line without a space\n",
    "\n",
    "# remove end of line character (don't really understand this...)\n",
    "\n",
    "x = \"\"\"\\\n",
    "\n",
    "UPDATE X if:\n",
    "\n",
    "     1. TRUE\n",
    "     \n",
    "     2. FALSE\n",
    "     \n",
    "     3. NA \\\n",
    "\n",
    "\"\"\"\n",
    "\n",
    "print(x)\n",
    "\n",
    "# tell the string to continue separately on each new line\n",
    "\n",
    "y = \"\"\"\\\n",
    "\n",
    "TRUE \\\n",
    "FALSE \\\n",
    "NA \\\n",
    "\n",
    "\"\"\"\n",
    "\n",
    "print(y)"
   ]
  },
  {
   "cell_type": "code",
   "execution_count": 23,
   "id": "563199ab",
   "metadata": {},
   "outputs": [
    {
     "name": "stdout",
     "output_type": "stream",
     "text": [
      "hello world\n",
      "aaab\n"
     ]
    }
   ],
   "source": [
    "# python is also different from R in that you can perform operators on strings\n",
    "hello = \"hello\"\n",
    "world = \"world\"\n",
    "helloworld = hello + \" \" + world\n",
    "\n",
    "print(helloworld)\n",
    "\n",
    "# you can even use multiplication\n",
    "\n",
    "x = 3 * \"a\" + \"b\"\n",
    "\n",
    "print(x)"
   ]
  },
  {
   "cell_type": "code",
   "execution_count": 24,
   "id": "c6690a62",
   "metadata": {},
   "outputs": [
    {
     "data": {
      "text/plain": [
       "'Python'"
      ]
     },
     "execution_count": 24,
     "metadata": {},
     "output_type": "execute_result"
    }
   ],
   "source": [
    "# string literals are things are actually in strings can be concatenated just by being next to each other\n",
    "\n",
    "\"Py\" \"thon\""
   ]
  },
  {
   "cell_type": "code",
   "execution_count": 26,
   "id": "59455d89",
   "metadata": {},
   "outputs": [
    {
     "ename": "SyntaxError",
     "evalue": "invalid syntax (Temp/ipykernel_13528/489461988.py, line 4)",
     "output_type": "error",
     "traceback": [
      "\u001b[1;36m  File \u001b[1;32m\"C:\\Users\\james\\AppData\\Local\\Temp/ipykernel_13528/489461988.py\"\u001b[1;36m, line \u001b[1;32m4\u001b[0m\n\u001b[1;33m    prefix \"thon\"\u001b[0m\n\u001b[1;37m           ^\u001b[0m\n\u001b[1;31mSyntaxError\u001b[0m\u001b[1;31m:\u001b[0m invalid syntax\n"
     ]
    }
   ],
   "source": [
    "# but this does not work with a string object and a literatl\n",
    "prefix = \"Py\"\n",
    "\n",
    "prefix \"thon\""
   ]
  },
  {
   "cell_type": "code",
   "execution_count": 28,
   "id": "536b75f7",
   "metadata": {},
   "outputs": [
    {
     "data": {
      "text/plain": [
       "'Python'"
      ]
     },
     "execution_count": 28,
     "metadata": {},
     "output_type": "execute_result"
    }
   ],
   "source": [
    "# in such a case, you need to use the plus\n",
    "prefix = \"Py\"\n",
    "prefix + \"thon\""
   ]
  },
  {
   "cell_type": "code",
   "execution_count": 1,
   "id": "0306f7de",
   "metadata": {},
   "outputs": [
    {
     "ename": "TypeError",
     "evalue": "unsupported operand type(s) for +: 'int' and 'str'",
     "output_type": "error",
     "traceback": [
      "\u001b[1;31m---------------------------------------------------------------------------\u001b[0m",
      "\u001b[1;31mTypeError\u001b[0m                                 Traceback (most recent call last)",
      "\u001b[1;32m~\\AppData\\Local\\Temp/ipykernel_13528/4063149785.py\u001b[0m in \u001b[0;36m<module>\u001b[1;34m\u001b[0m\n\u001b[0;32m      3\u001b[0m \u001b[0mb\u001b[0m \u001b[1;33m=\u001b[0m \u001b[1;36m2\u001b[0m\u001b[1;33m\u001b[0m\u001b[1;33m\u001b[0m\u001b[0m\n\u001b[0;32m      4\u001b[0m \u001b[0mc\u001b[0m \u001b[1;33m=\u001b[0m \u001b[1;34m\"hello\"\u001b[0m\u001b[1;33m\u001b[0m\u001b[1;33m\u001b[0m\u001b[0m\n\u001b[1;32m----> 5\u001b[1;33m \u001b[0mprint\u001b[0m\u001b[1;33m(\u001b[0m\u001b[0ma\u001b[0m \u001b[1;33m+\u001b[0m \u001b[0mb\u001b[0m \u001b[1;33m+\u001b[0m \u001b[0mc\u001b[0m\u001b[1;33m)\u001b[0m\u001b[1;33m\u001b[0m\u001b[1;33m\u001b[0m\u001b[0m\n\u001b[0m",
      "\u001b[1;31mTypeError\u001b[0m: unsupported operand type(s) for +: 'int' and 'str'"
     ]
    }
   ],
   "source": [
    "# but, you cannot mix strings and numbers with operators\n",
    "a = 1\n",
    "b = 2\n",
    "c = \"hello\"\n",
    "print(a + b + c)"
   ]
  },
  {
   "cell_type": "code",
   "execution_count": 30,
   "id": "215941cf",
   "metadata": {},
   "outputs": [
    {
     "name": "stdout",
     "output_type": "stream",
     "text": [
      "t\n",
      "e\n",
      "g\n"
     ]
    }
   ],
   "source": [
    "# strings can be indexed unlike in R which is quite useful (note that they start at zero, not one)\n",
    "\n",
    "word = \"geriatric\"\n",
    "\n",
    "print( word[5] )\n",
    "\n",
    "print( word[1] )\n",
    "\n",
    "print( word[0] )"
   ]
  },
  {
   "cell_type": "code",
   "execution_count": 32,
   "id": "a16f4f46",
   "metadata": {},
   "outputs": [
    {
     "name": "stdout",
     "output_type": "stream",
     "text": [
      "r\n"
     ]
    }
   ],
   "source": [
    "# indexing in python with negative numbers works by counting backwards\n",
    "\n",
    "print(word[-3] )"
   ]
  },
  {
   "cell_type": "code",
   "execution_count": 33,
   "id": "b575fa38",
   "metadata": {},
   "outputs": [
    {
     "name": "stdout",
     "output_type": "stream",
     "text": [
      "ge\n"
     ]
    }
   ],
   "source": [
    "# slicing i.e. generating substrings \n",
    "\n",
    "print( word[0:2] ) # from 0 until 2 but excluding 2"
   ]
  },
  {
   "cell_type": "code",
   "execution_count": 35,
   "id": "b2906855",
   "metadata": {},
   "outputs": [
    {
     "name": "stdout",
     "output_type": "stream",
     "text": [
      "geri\n",
      "riatric\n"
     ]
    }
   ],
   "source": [
    "# the defaults for slicing are quite useful\n",
    "\n",
    "# omitted first position defaults to zero\n",
    "\n",
    "print(word[:4]) # here, four is excluded\n",
    "\n",
    "# omitted last position defaults to the length of the string\n",
    "\n",
    "print(word[2:]) # two is included"
   ]
  },
  {
   "cell_type": "code",
   "execution_count": null,
   "id": "6ab6016d",
   "metadata": {},
   "outputs": [],
   "source": [
    "# the slicing behaviour of Python essentially means that indices point between numbers i.e.:\n",
    "\n",
    "# zero points left of starting\n",
    "\n",
    "# string length points right of ending"
   ]
  },
  {
   "cell_type": "code",
   "execution_count": 36,
   "id": "faeea747",
   "metadata": {},
   "outputs": [
    {
     "ename": "TypeError",
     "evalue": "'str' object does not support item assignment",
     "output_type": "error",
     "traceback": [
      "\u001b[1;31m---------------------------------------------------------------------------\u001b[0m",
      "\u001b[1;31mTypeError\u001b[0m                                 Traceback (most recent call last)",
      "\u001b[1;32m~\\AppData\\Local\\Temp/ipykernel_13528/514471403.py\u001b[0m in \u001b[0;36m<module>\u001b[1;34m\u001b[0m\n\u001b[0;32m      4\u001b[0m \u001b[1;33m\u001b[0m\u001b[0m\n\u001b[0;32m      5\u001b[0m \u001b[0mword\u001b[0m \u001b[1;33m=\u001b[0m \u001b[1;34m\"Python\"\u001b[0m\u001b[1;33m\u001b[0m\u001b[1;33m\u001b[0m\u001b[0m\n\u001b[1;32m----> 6\u001b[1;33m \u001b[0mword\u001b[0m\u001b[1;33m[\u001b[0m\u001b[1;36m0\u001b[0m\u001b[1;33m]\u001b[0m \u001b[1;33m=\u001b[0m \u001b[1;34m\"J\"\u001b[0m\u001b[1;33m\u001b[0m\u001b[1;33m\u001b[0m\u001b[0m\n\u001b[0m",
      "\u001b[1;31mTypeError\u001b[0m: 'str' object does not support item assignment"
     ]
    }
   ],
   "source": [
    "# python strings are immutable i.e. you cannot change individual elements\n",
    "\n",
    "# for example, if we wanted to change a string called Python to Jython, we cannot do this:\n",
    "\n",
    "word = \"Python\"\n",
    "word[0] = \"J\""
   ]
  },
  {
   "cell_type": "code",
   "execution_count": 38,
   "id": "c678ecf2",
   "metadata": {},
   "outputs": [
    {
     "name": "stdout",
     "output_type": "stream",
     "text": [
      "Jython\n"
     ]
    }
   ],
   "source": [
    "# you would have to create a new string\n",
    "word2 = \"J\" + word[1:]\n",
    "print(word2)"
   ]
  },
  {
   "cell_type": "code",
   "execution_count": 41,
   "id": "6cd1ad3f",
   "metadata": {},
   "outputs": [
    {
     "data": {
      "text/plain": [
       "'Pyth'"
      ]
     },
     "execution_count": 41,
     "metadata": {},
     "output_type": "execute_result"
    }
   ],
   "source": [
    "# python has a built in function called len that outputs the length of a string\n",
    "len(word2)"
   ]
  },
  {
   "cell_type": "code",
   "execution_count": 10,
   "id": "722cf55f",
   "metadata": {},
   "outputs": [
    {
     "name": "stdout",
     "output_type": "stream",
     "text": [
      "2 3\n"
     ]
    }
   ],
   "source": [
    "# python differs from R in that we can assign multiple objects simultaneously\n",
    "\n",
    "a, b = 2, 3\n",
    "\n",
    "print(a, b)"
   ]
  },
  {
   "cell_type": "code",
   "execution_count": 42,
   "id": "5b02a86f",
   "metadata": {},
   "outputs": [
    {
     "name": "stdout",
     "output_type": "stream",
     "text": [
      "1\n",
      "[1, 4, 9]\n"
     ]
    }
   ],
   "source": [
    "### lists\n",
    "\n",
    "# list are compound data types that group together different objects\n",
    "\n",
    "# they are essentially comma-separated items created using square brackets\n",
    "squares = [1, 4, 9, 16, 25]\n",
    "\n",
    "# they can be indexed in the same way as string\n",
    "print( squares[0] )\n",
    "print( squares[0:3] )"
   ]
  },
  {
   "cell_type": "code",
   "execution_count": 43,
   "id": "018d5c56",
   "metadata": {},
   "outputs": [
    {
     "data": {
      "text/plain": [
       "[1, 4, 9, 16, 25, 36]"
      ]
     },
     "execution_count": 43,
     "metadata": {},
     "output_type": "execute_result"
    }
   ],
   "source": [
    "# lists can also easily be concatenated using + signs\n",
    "\n",
    "# this is a big difference from R where this operation would be vectorised\n",
    "\n",
    "squares + [36]"
   ]
  },
  {
   "cell_type": "code",
   "execution_count": 50,
   "id": "9abdc864",
   "metadata": {},
   "outputs": [
    {
     "name": "stdout",
     "output_type": "stream",
     "text": [
      "[1, 8, 27, 65]\n",
      "[1, 8, 27, 64]\n"
     ]
    }
   ],
   "source": [
    "# unlike strings, lists are mutable so you can change individual elements\n",
    "cubes = [1, 8, 27, 65]\n",
    "print(cubes)\n",
    "\n",
    "# no! 4**3 is not 65\n",
    "cubes[3] = 4**3\n",
    "\n",
    "print(cubes)"
   ]
  },
  {
   "cell_type": "code",
   "execution_count": 51,
   "id": "a37477bb",
   "metadata": {},
   "outputs": [
    {
     "name": "stdout",
     "output_type": "stream",
     "text": [
      "[1, 8, 27, 64, 125]\n"
     ]
    }
   ],
   "source": [
    "# you can also add things to lists using the append method\n",
    "cubes.append(125)\n",
    "\n",
    "print(cubes)"
   ]
  },
  {
   "cell_type": "code",
   "execution_count": 54,
   "id": "3b2b1342",
   "metadata": {},
   "outputs": [
    {
     "name": "stdout",
     "output_type": "stream",
     "text": [
      "[1, 8, 57, 28, 125]\n"
     ]
    }
   ],
   "source": [
    "# replacements can also be done on slices\n",
    "cubes[2:4]\n",
    "\n",
    "cubes[2:4] = [57, 28]\n",
    "\n",
    "print(cubes)"
   ]
  },
  {
   "cell_type": "code",
   "execution_count": 55,
   "id": "b04979c3",
   "metadata": {},
   "outputs": [
    {
     "name": "stdout",
     "output_type": "stream",
     "text": [
      "[1, 8, 125]\n"
     ]
    }
   ],
   "source": [
    "# you can also remove elements in the same way\n",
    "cubes[2:4] = []\n",
    "\n",
    "print(cubes)"
   ]
  },
  {
   "cell_type": "code",
   "execution_count": 56,
   "id": "602548d0",
   "metadata": {},
   "outputs": [
    {
     "data": {
      "text/plain": [
       "3"
      ]
     },
     "execution_count": 56,
     "metadata": {},
     "output_type": "execute_result"
    }
   ],
   "source": [
    "# like with strings, we use the built-in len() function to get the length of a list\n",
    "len(cubes)"
   ]
  },
  {
   "cell_type": "code",
   "execution_count": 57,
   "id": "d8a98514",
   "metadata": {},
   "outputs": [
    {
     "data": {
      "text/plain": [
       "[[5, 6, 7], ['a', 'b']]"
      ]
     },
     "execution_count": 57,
     "metadata": {},
     "output_type": "execute_result"
    }
   ],
   "source": [
    "# you can also create nested lists i.e. lists within lists\n",
    "x = [5, 6, 7]\n",
    "n = [\"a\", \"b\"]\n",
    "\n",
    "[x, n]"
   ]
  },
  {
   "cell_type": "code",
   "execution_count": null,
   "id": "205b492c",
   "metadata": {},
   "outputs": [],
   "source": [
    "### basics of programming i.e. iteration and writing loops"
   ]
  },
  {
   "cell_type": "code",
   "execution_count": null,
   "id": "61242914",
   "metadata": {},
   "outputs": [],
   "source": []
  },
  {
   "cell_type": "code",
   "execution_count": null,
   "id": "8a9b6221",
   "metadata": {},
   "outputs": [],
   "source": []
  },
  {
   "cell_type": "code",
   "execution_count": null,
   "id": "69db54ee",
   "metadata": {},
   "outputs": [],
   "source": []
  },
  {
   "cell_type": "code",
   "execution_count": null,
   "id": "ca0fbc4a",
   "metadata": {},
   "outputs": [],
   "source": []
  },
  {
   "cell_type": "code",
   "execution_count": null,
   "id": "7c527410",
   "metadata": {},
   "outputs": [],
   "source": []
  },
  {
   "cell_type": "code",
   "execution_count": null,
   "id": "139de8f0",
   "metadata": {},
   "outputs": [],
   "source": []
  },
  {
   "cell_type": "code",
   "execution_count": null,
   "id": "edc0e51a",
   "metadata": {},
   "outputs": [],
   "source": []
  }
 ],
 "metadata": {
  "kernelspec": {
   "display_name": "Python 3 (ipykernel)",
   "language": "python",
   "name": "python3"
  },
  "language_info": {
   "codemirror_mode": {
    "name": "ipython",
    "version": 3
   },
   "file_extension": ".py",
   "mimetype": "text/x-python",
   "name": "python",
   "nbconvert_exporter": "python",
   "pygments_lexer": "ipython3",
   "version": "3.9.7"
  }
 },
 "nbformat": 4,
 "nbformat_minor": 5
}
