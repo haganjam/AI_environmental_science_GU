{
 "cells": [
  {
   "cell_type": "code",
   "execution_count": null,
   "id": "fff9c8b9",
   "metadata": {},
   "outputs": [],
   "source": [
    "### Python basics"
   ]
  },
  {
   "cell_type": "code",
   "execution_count": 1,
   "id": "4195d06c",
   "metadata": {},
   "outputs": [
    {
     "name": "stdout",
     "output_type": "stream",
     "text": [
      "print this line please\n"
     ]
    }
   ],
   "source": [
    "# print() function\n",
    "print(\"print this line please\")"
   ]
  },
  {
   "cell_type": "code",
   "execution_count": 2,
   "id": "3396889e",
   "metadata": {},
   "outputs": [
    {
     "data": {
      "text/plain": [
       "1"
      ]
     },
     "execution_count": 2,
     "metadata": {},
     "output_type": "execute_result"
    }
   ],
   "source": [
    "# python assigns variables using =\n",
    "x = 1\n",
    "x"
   ]
  },
  {
   "cell_type": "code",
   "execution_count": 3,
   "id": "8adffe58",
   "metadata": {},
   "outputs": [
    {
     "name": "stdout",
     "output_type": "stream",
     "text": [
      "1\n",
      "7.8\n"
     ]
    }
   ],
   "source": [
    "# python supports two types of numbers:\n",
    "\n",
    "# 1 integers\n",
    "my_integer = 1\n",
    "print(my_integer)\n",
    "\n",
    "# 2 floating point numbers\n",
    "my_float = 7.8\n",
    "print(my_float)"
   ]
  },
  {
   "cell_type": "code",
   "execution_count": 4,
   "id": "eb04f4cc",
   "metadata": {},
   "outputs": [
    {
     "name": "stdout",
     "output_type": "stream",
     "text": [
      "4\n",
      "5\n",
      "56\n",
      "50\n"
     ]
    }
   ],
   "source": [
    "# python is a simple calculator that supports a range of mathematical operators\n",
    "\n",
    "# addition\n",
    "\n",
    "print(2 + 2)\n",
    "\n",
    "# subtraction\n",
    "\n",
    "print(10 - 5)\n",
    "\n",
    "# multiplication\n",
    "\n",
    "print(8*7)\n",
    "\n",
    "# combinations using regular parentheses\n",
    "\n",
    "print( (10-5) * 10 )"
   ]
  },
  {
   "cell_type": "code",
   "execution_count": 8,
   "id": "1f190cca",
   "metadata": {},
   "outputs": [
    {
     "name": "stdout",
     "output_type": "stream",
     "text": [
      "1.8571428571428572\n",
      "3\n",
      "6\n"
     ]
    }
   ],
   "source": [
    "# division is a bit more complicated because of the remainders\n",
    "\n",
    "# simple division returns floating point\n",
    "\n",
    "print( 13/7 )\n",
    "\n",
    "# floor division using double // discards the fractional part\n",
    "\n",
    "print( 27//7 )\n",
    "\n",
    "# the percentage sign (%) only returns the remainder\n",
    "\n",
    "print( 27 % 7 )"
   ]
  },
  {
   "cell_type": "code",
   "execution_count": 9,
   "id": "e3838e0f",
   "metadata": {},
   "outputs": [
    {
     "name": "stdout",
     "output_type": "stream",
     "text": [
      "4\n",
      "8\n"
     ]
    }
   ],
   "source": [
    "# powers in Python are calculated using ** (not ^ like in R)\n",
    "\n",
    "print( 2**2 )\n",
    "\n",
    "print( 2 ** 3)"
   ]
  },
  {
   "cell_type": "code",
   "execution_count": 8,
   "id": "e909f413",
   "metadata": {},
   "outputs": [
    {
     "name": "stdout",
     "output_type": "stream",
     "text": [
      "hello1 hello2\n",
      "excuse me, that's kate's sweater\n"
     ]
    }
   ],
   "source": [
    "# python also supports strings\n",
    "\n",
    "# strings are defined by either:\n",
    "\n",
    "# 1. single quotes ''\n",
    "hello1 = 'hello1'\n",
    "\n",
    "# 2. double quotes \"\"\n",
    "hello2 = \"hello2\"\n",
    "\n",
    "print(hello1, hello2)\n",
    "\n",
    "# the only practical difference is that using double quotes means you can have single quotes e.g. apostrophes in the string\n",
    "stringer = \"excuse me, that's kate's sweater\"\n",
    "\n",
    "print(stringer)"
   ]
  },
  {
   "cell_type": "code",
   "execution_count": 12,
   "id": "85959b07",
   "metadata": {},
   "outputs": [
    {
     "name": "stdout",
     "output_type": "stream",
     "text": [
      "doesn't\n",
      "\"hello\"\n"
     ]
    }
   ],
   "source": [
    "# note that you can also use a \\ to escape quotes. This means that you can include apostrophes etc. in the string\n",
    "\n",
    "print( 'doesn\\'t' )\n",
    "\n",
    "print( \"\\\"hello\\\"\" )"
   ]
  },
  {
   "cell_type": "code",
   "execution_count": 13,
   "id": "b1fedd80",
   "metadata": {},
   "outputs": [
    {
     "name": "stdout",
     "output_type": "stream",
     "text": [
      "C:\\some\n",
      "ame\n",
      "C:\\some\\name\n"
     ]
    }
   ],
   "source": [
    "# in python, we have a few special characters e.g. \\n means new line\n",
    "\n",
    "# but, sometimes, we don't want to the \\n to be interpreted as as a special character\n",
    "\n",
    "# to fix this, we need to tell python to use raw strings by putting an r before the string\n",
    "\n",
    "print('C:\\some\\name')\n",
    "\n",
    "print(r'C:\\some\\name')"
   ]
  },
  {
   "cell_type": "code",
   "execution_count": 14,
   "id": "ebe8ae6d",
   "metadata": {},
   "outputs": [
    {
     "name": "stdout",
     "output_type": "stream",
     "text": [
      " \"hello\" \n"
     ]
    }
   ],
   "source": [
    "# in addition, python has a useful syntax of triple quotations\n",
    "\n",
    "# the triple quotations have a range of uses\n",
    "\n",
    "# 1. you don't have to escape quotations in a string\n",
    "\n",
    "x = \"\"\" \"hello\" \"\"\"\n",
    "print(x)"
   ]
  },
  {
   "cell_type": "code",
   "execution_count": 15,
   "id": "7883e828",
   "metadata": {},
   "outputs": [
    {
     "name": "stdout",
     "output_type": "stream",
     "text": [
      "5\n"
     ]
    }
   ],
   "source": [
    "# 2. you can write multi-line comments\n",
    "\n",
    "\"\"\"this is a very long comment that looks weird\n",
    "when you put it all in one line\"\"\"\n",
    "\n",
    "x = 5\n",
    "print(x)"
   ]
  },
  {
   "cell_type": "code",
   "execution_count": 16,
   "id": "439a5113",
   "metadata": {},
   "outputs": [
    {
     "name": "stdout",
     "output_type": "stream",
     "text": [
      "\n",
      "\n",
      "UPDATE X if:\n",
      "\n",
      "     1. TRUE\n",
      "     \n",
      "     2. FALSE\n",
      "     \n",
      "     3. NA\n",
      "\n",
      "\n"
     ]
    }
   ],
   "source": [
    "# 3. you can write multiline strings\n",
    "\n",
    "x = \"\"\"\n",
    "\n",
    "UPDATE X if:\n",
    "\n",
    "     1. TRUE\n",
    "     \n",
    "     2. FALSE\n",
    "     \n",
    "     3. NA\n",
    "\n",
    "\"\"\"\n",
    "\n",
    "print(x)"
   ]
  },
  {
   "cell_type": "code",
   "execution_count": 22,
   "id": "bcfca784",
   "metadata": {},
   "outputs": [
    {
     "name": "stdout",
     "output_type": "stream",
     "text": [
      "\n",
      "UPDATE X if:\n",
      "\n",
      "     1. TRUE\n",
      "     \n",
      "     2. FALSE\n",
      "     \n",
      "     3. NA \n",
      "\n",
      "\n",
      "TRUE FALSE NA \n",
      "\n"
     ]
    }
   ],
   "source": [
    "# you can also remove the end-of-lines and tell Python to continue on the next line using the backslash\n",
    "\n",
    "# this allows you to either remove the end of line characters or to make a new string for each line without a space\n",
    "\n",
    "# remove end of line character (don't really understand this...)\n",
    "\n",
    "x = \"\"\"\\\n",
    "\n",
    "UPDATE X if:\n",
    "\n",
    "     1. TRUE\n",
    "     \n",
    "     2. FALSE\n",
    "     \n",
    "     3. NA \\\n",
    "\n",
    "\"\"\"\n",
    "\n",
    "print(x)\n",
    "\n",
    "# tell the string to continue separately on each new line\n",
    "\n",
    "y = \"\"\"\\\n",
    "\n",
    "TRUE \\\n",
    "FALSE \\\n",
    "NA \\\n",
    "\n",
    "\"\"\"\n",
    "\n",
    "print(y)"
   ]
  },
  {
   "cell_type": "code",
   "execution_count": 23,
   "id": "563199ab",
   "metadata": {},
   "outputs": [
    {
     "name": "stdout",
     "output_type": "stream",
     "text": [
      "hello world\n",
      "aaab\n"
     ]
    }
   ],
   "source": [
    "# python is also different from R in that you can perform operators on strings\n",
    "hello = \"hello\"\n",
    "world = \"world\"\n",
    "helloworld = hello + \" \" + world\n",
    "\n",
    "print(helloworld)\n",
    "\n",
    "# you can even use multiplication\n",
    "\n",
    "x = 3 * \"a\" + \"b\"\n",
    "\n",
    "print(x)"
   ]
  },
  {
   "cell_type": "code",
   "execution_count": 24,
   "id": "cb53ba5f",
   "metadata": {},
   "outputs": [
    {
     "data": {
      "text/plain": [
       "'Python'"
      ]
     },
     "execution_count": 24,
     "metadata": {},
     "output_type": "execute_result"
    }
   ],
   "source": [
    "# string literals are things are actually in strings can be concatenated just by being next to each other\n",
    "\n",
    "\"Py\" \"thon\""
   ]
  },
  {
   "cell_type": "code",
   "execution_count": 26,
   "id": "b33aded6",
   "metadata": {},
   "outputs": [
    {
     "ename": "SyntaxError",
     "evalue": "invalid syntax (Temp/ipykernel_13528/489461988.py, line 4)",
     "output_type": "error",
     "traceback": [
      "\u001b[1;36m  File \u001b[1;32m\"C:\\Users\\james\\AppData\\Local\\Temp/ipykernel_13528/489461988.py\"\u001b[1;36m, line \u001b[1;32m4\u001b[0m\n\u001b[1;33m    prefix \"thon\"\u001b[0m\n\u001b[1;37m           ^\u001b[0m\n\u001b[1;31mSyntaxError\u001b[0m\u001b[1;31m:\u001b[0m invalid syntax\n"
     ]
    }
   ],
   "source": [
    "# but this does not work with a string object and a literatl\n",
    "prefix = \"Py\"\n",
    "\n",
    "prefix \"thon\""
   ]
  },
  {
   "cell_type": "code",
   "execution_count": 28,
   "id": "53bc1ee3",
   "metadata": {},
   "outputs": [
    {
     "data": {
      "text/plain": [
       "'Python'"
      ]
     },
     "execution_count": 28,
     "metadata": {},
     "output_type": "execute_result"
    }
   ],
   "source": [
    "# in such a case, you need to use the plus\n",
    "prefix = \"Py\"\n",
    "prefix + \"thon\""
   ]
  },
  {
   "cell_type": "code",
   "execution_count": 1,
   "id": "ddf1a2dd",
   "metadata": {},
   "outputs": [
    {
     "ename": "TypeError",
     "evalue": "unsupported operand type(s) for +: 'int' and 'str'",
     "output_type": "error",
     "traceback": [
      "\u001b[1;31m---------------------------------------------------------------------------\u001b[0m",
      "\u001b[1;31mTypeError\u001b[0m                                 Traceback (most recent call last)",
      "\u001b[1;32m~\\AppData\\Local\\Temp/ipykernel_13528/4063149785.py\u001b[0m in \u001b[0;36m<module>\u001b[1;34m\u001b[0m\n\u001b[0;32m      3\u001b[0m \u001b[0mb\u001b[0m \u001b[1;33m=\u001b[0m \u001b[1;36m2\u001b[0m\u001b[1;33m\u001b[0m\u001b[1;33m\u001b[0m\u001b[0m\n\u001b[0;32m      4\u001b[0m \u001b[0mc\u001b[0m \u001b[1;33m=\u001b[0m \u001b[1;34m\"hello\"\u001b[0m\u001b[1;33m\u001b[0m\u001b[1;33m\u001b[0m\u001b[0m\n\u001b[1;32m----> 5\u001b[1;33m \u001b[0mprint\u001b[0m\u001b[1;33m(\u001b[0m\u001b[0ma\u001b[0m \u001b[1;33m+\u001b[0m \u001b[0mb\u001b[0m \u001b[1;33m+\u001b[0m \u001b[0mc\u001b[0m\u001b[1;33m)\u001b[0m\u001b[1;33m\u001b[0m\u001b[1;33m\u001b[0m\u001b[0m\n\u001b[0m",
      "\u001b[1;31mTypeError\u001b[0m: unsupported operand type(s) for +: 'int' and 'str'"
     ]
    }
   ],
   "source": [
    "# but, you cannot mix strings and numbers with operators\n",
    "a = 1\n",
    "b = 2\n",
    "c = \"hello\"\n",
    "print(a + b + c)"
   ]
  },
  {
   "cell_type": "code",
   "execution_count": 30,
   "id": "a6b7c0e4",
   "metadata": {},
   "outputs": [
    {
     "name": "stdout",
     "output_type": "stream",
     "text": [
      "t\n",
      "e\n",
      "g\n"
     ]
    }
   ],
   "source": [
    "# strings can be indexed unlike in R which is quite useful (note that they start at zero, not one)\n",
    "\n",
    "word = \"geriatric\"\n",
    "\n",
    "print( word[5] )\n",
    "\n",
    "print( word[1] )\n",
    "\n",
    "print( word[0] )"
   ]
  },
  {
   "cell_type": "code",
   "execution_count": 32,
   "id": "98efa0a2",
   "metadata": {},
   "outputs": [
    {
     "name": "stdout",
     "output_type": "stream",
     "text": [
      "r\n"
     ]
    }
   ],
   "source": [
    "# indexing in python with negative numbers works by counting backwards\n",
    "\n",
    "print(word[-3] )"
   ]
  },
  {
   "cell_type": "code",
   "execution_count": 33,
   "id": "7321ee28",
   "metadata": {},
   "outputs": [
    {
     "name": "stdout",
     "output_type": "stream",
     "text": [
      "ge\n"
     ]
    }
   ],
   "source": [
    "# slicing i.e. generating substrings \n",
    "\n",
    "print( word[0:2] ) # from 0 until 2 but excluding 2"
   ]
  },
  {
   "cell_type": "code",
   "execution_count": 35,
   "id": "7499da4c",
   "metadata": {},
   "outputs": [
    {
     "name": "stdout",
     "output_type": "stream",
     "text": [
      "geri\n",
      "riatric\n"
     ]
    }
   ],
   "source": [
    "# the defaults for slicing are quite useful\n",
    "\n",
    "# omitted first position defaults to zero\n",
    "\n",
    "print(word[:4]) # here, four is excluded\n",
    "\n",
    "# omitted last position defaults to the length of the string\n",
    "\n",
    "print(word[2:]) # two is included"
   ]
  },
  {
   "cell_type": "code",
   "execution_count": null,
   "id": "b93c631f",
   "metadata": {},
   "outputs": [],
   "source": [
    "# the slicing behaviour of Python essentially means that indices point between numbers i.e.:\n",
    "\n",
    "# zero points left of starting\n",
    "\n",
    "# string length points right of ending"
   ]
  },
  {
   "cell_type": "code",
   "execution_count": 36,
   "id": "170c8233",
   "metadata": {},
   "outputs": [
    {
     "ename": "TypeError",
     "evalue": "'str' object does not support item assignment",
     "output_type": "error",
     "traceback": [
      "\u001b[1;31m---------------------------------------------------------------------------\u001b[0m",
      "\u001b[1;31mTypeError\u001b[0m                                 Traceback (most recent call last)",
      "\u001b[1;32m~\\AppData\\Local\\Temp/ipykernel_13528/514471403.py\u001b[0m in \u001b[0;36m<module>\u001b[1;34m\u001b[0m\n\u001b[0;32m      4\u001b[0m \u001b[1;33m\u001b[0m\u001b[0m\n\u001b[0;32m      5\u001b[0m \u001b[0mword\u001b[0m \u001b[1;33m=\u001b[0m \u001b[1;34m\"Python\"\u001b[0m\u001b[1;33m\u001b[0m\u001b[1;33m\u001b[0m\u001b[0m\n\u001b[1;32m----> 6\u001b[1;33m \u001b[0mword\u001b[0m\u001b[1;33m[\u001b[0m\u001b[1;36m0\u001b[0m\u001b[1;33m]\u001b[0m \u001b[1;33m=\u001b[0m \u001b[1;34m\"J\"\u001b[0m\u001b[1;33m\u001b[0m\u001b[1;33m\u001b[0m\u001b[0m\n\u001b[0m",
      "\u001b[1;31mTypeError\u001b[0m: 'str' object does not support item assignment"
     ]
    }
   ],
   "source": [
    "# python strings are immutable i.e. you cannot change individual elements\n",
    "\n",
    "# for example, if we wanted to change a string called Python to Jython, we cannot do this:\n",
    "\n",
    "word = \"Python\"\n",
    "word[0] = \"J\""
   ]
  },
  {
   "cell_type": "code",
   "execution_count": 38,
   "id": "99df42f3",
   "metadata": {},
   "outputs": [
    {
     "name": "stdout",
     "output_type": "stream",
     "text": [
      "Jython\n"
     ]
    }
   ],
   "source": [
    "# you would have to create a new string\n",
    "word2 = \"J\" + word[1:]\n",
    "print(word2)"
   ]
  },
  {
   "cell_type": "code",
   "execution_count": 41,
   "id": "96a7707d",
   "metadata": {},
   "outputs": [
    {
     "data": {
      "text/plain": [
       "'Pyth'"
      ]
     },
     "execution_count": 41,
     "metadata": {},
     "output_type": "execute_result"
    }
   ],
   "source": [
    "# python has a built in function called len that outputs the length of a string\n",
    "len(word2)"
   ]
  },
  {
   "cell_type": "code",
   "execution_count": 10,
   "id": "722cf55f",
   "metadata": {},
   "outputs": [
    {
     "name": "stdout",
     "output_type": "stream",
     "text": [
      "2 3\n"
     ]
    }
   ],
   "source": [
    "# python differs from R in that we can assign multiple objects simultaneously\n",
    "\n",
    "a, b = 2, 3\n",
    "\n",
    "print(a, b)"
   ]
  },
  {
   "cell_type": "code",
   "execution_count": 42,
   "id": "6d7d7798",
   "metadata": {},
   "outputs": [
    {
     "name": "stdout",
     "output_type": "stream",
     "text": [
      "1\n",
      "[1, 4, 9]\n"
     ]
    }
   ],
   "source": [
    "### lists\n",
    "\n",
    "# list are compound data types that group together different objects\n",
    "\n",
    "# they are essentially comma-separated items created using square brackets\n",
    "squares = [1, 4, 9, 16, 25]\n",
    "\n",
    "# they can be indexed in the same way as string\n",
    "print( squares[0] )\n",
    "print( squares[0:3] )"
   ]
  },
  {
   "cell_type": "code",
   "execution_count": 43,
   "id": "09fc9f6e",
   "metadata": {},
   "outputs": [
    {
     "data": {
      "text/plain": [
       "[1, 4, 9, 16, 25, 36]"
      ]
     },
     "execution_count": 43,
     "metadata": {},
     "output_type": "execute_result"
    }
   ],
   "source": [
    "# lists can also easily be concatenated using + signs\n",
    "\n",
    "# this is a big difference from R where this operation would be vectorised\n",
    "\n",
    "squares + [36]"
   ]
  },
  {
   "cell_type": "code",
   "execution_count": 50,
   "id": "ec8aca7b",
   "metadata": {},
   "outputs": [
    {
     "name": "stdout",
     "output_type": "stream",
     "text": [
      "[1, 8, 27, 65]\n",
      "[1, 8, 27, 64]\n"
     ]
    }
   ],
   "source": [
    "# unlike strings, lists are mutable so you can change individual elements\n",
    "cubes = [1, 8, 27, 65]\n",
    "print(cubes)\n",
    "\n",
    "# no! 4**3 is not 65\n",
    "cubes[3] = 4**3\n",
    "\n",
    "print(cubes)"
   ]
  },
  {
   "cell_type": "code",
   "execution_count": 51,
   "id": "e993c831",
   "metadata": {},
   "outputs": [
    {
     "name": "stdout",
     "output_type": "stream",
     "text": [
      "[1, 8, 27, 64, 125]\n"
     ]
    }
   ],
   "source": [
    "# you can also add things to lists using the append method\n",
    "cubes.append(125)\n",
    "\n",
    "print(cubes)"
   ]
  },
  {
   "cell_type": "code",
   "execution_count": 54,
   "id": "49b80797",
   "metadata": {},
   "outputs": [
    {
     "name": "stdout",
     "output_type": "stream",
     "text": [
      "[1, 8, 57, 28, 125]\n"
     ]
    }
   ],
   "source": [
    "# replacements can also be done on slices\n",
    "cubes[2:4]\n",
    "\n",
    "cubes[2:4] = [57, 28]\n",
    "\n",
    "print(cubes)"
   ]
  },
  {
   "cell_type": "code",
   "execution_count": 55,
   "id": "14982b11",
   "metadata": {},
   "outputs": [
    {
     "name": "stdout",
     "output_type": "stream",
     "text": [
      "[1, 8, 125]\n"
     ]
    }
   ],
   "source": [
    "# you can also remove elements in the same way\n",
    "cubes[2:4] = []\n",
    "\n",
    "print(cubes)"
   ]
  },
  {
   "cell_type": "code",
   "execution_count": 56,
   "id": "d1a27f3a",
   "metadata": {},
   "outputs": [
    {
     "data": {
      "text/plain": [
       "3"
      ]
     },
     "execution_count": 56,
     "metadata": {},
     "output_type": "execute_result"
    }
   ],
   "source": [
    "# like with strings, we use the built-in len() function to get the length of a list\n",
    "len(cubes)"
   ]
  },
  {
   "cell_type": "code",
   "execution_count": 57,
   "id": "e4108bed",
   "metadata": {},
   "outputs": [
    {
     "data": {
      "text/plain": [
       "[[5, 6, 7], ['a', 'b']]"
      ]
     },
     "execution_count": 57,
     "metadata": {},
     "output_type": "execute_result"
    }
   ],
   "source": [
    "# you can also create nested lists i.e. lists within lists\n",
    "x = [5, 6, 7]\n",
    "n = [\"a\", \"b\"]\n",
    "\n",
    "[x, n]"
   ]
  },
  {
   "cell_type": "code",
   "execution_count": null,
   "id": "049fb8f5",
   "metadata": {},
   "outputs": [],
   "source": [
    "### basics of programming i.e. iteration and writing loops"
   ]
  },
  {
   "cell_type": "code",
   "execution_count": 59,
   "id": "33099fa8",
   "metadata": {},
   "outputs": [
    {
     "name": "stdout",
     "output_type": "stream",
     "text": [
      "0\n",
      "1\n",
      "1\n",
      "2\n",
      "3\n",
      "5\n",
      "8\n"
     ]
    }
   ],
   "source": [
    "# write a while loop to generate the fibonacci series\n",
    "a, b = 0, 1\n",
    "while a < 10:\n",
    "    print(a)\n",
    "    a, b = b, a+b"
   ]
  },
  {
   "cell_type": "code",
   "execution_count": 60,
   "id": "d9011bef",
   "metadata": {},
   "outputs": [
    {
     "name": "stdout",
     "output_type": "stream",
     "text": [
      "0,1,1,2,3,5,8,13,21,34,55,89,144,233,377,610,987,"
     ]
    }
   ],
   "source": [
    "# see how this works with more replicates\n",
    "a, b = 0, 1\n",
    "while a < 1000:\n",
    "    print(a, end = \",\")\n",
    "    a, b = b, a+b"
   ]
  },
  {
   "cell_type": "code",
   "execution_count": 67,
   "id": "2375e6ac",
   "metadata": {},
   "outputs": [
    {
     "name": "stdout",
     "output_type": "stream",
     "text": [
      "Please enter an integer: 5\n",
      "5\n",
      "more\n"
     ]
    }
   ],
   "source": [
    "# if statements are very similar to R\n",
    "\n",
    "# note that the indented if, elif etc. must be aligned for the code to run\n",
    "\n",
    "x = int(input(\"Please enter an integer: \"))\n",
    "print(x)\n",
    "\n",
    "if x < 0:\n",
    "    x = 0\n",
    "    print(\"negative changed to zero\")\n",
    "elif x == 0:\n",
    "    print(\"zero\")\n",
    "elif x == 1:\n",
    "    print(\"single\")\n",
    "else:\n",
    "    print(\"more\")"
   ]
  },
  {
   "cell_type": "code",
   "execution_count": 68,
   "id": "c2fa4d7e",
   "metadata": {},
   "outputs": [
    {
     "name": "stdout",
     "output_type": "stream",
     "text": [
      "cat 3\n",
      "window 6\n",
      "defenestrate 12\n"
     ]
    }
   ],
   "source": [
    "# for loops are also quite similar to R\n",
    "\n",
    "# for loops just iterate over everything in a sequence that is called\n",
    "\n",
    "# Measure some strings:\n",
    "words = ['cat', 'window', 'defenestrate']\n",
    "for w in words:\n",
    "    print(w, len(w))"
   ]
  },
  {
   "cell_type": "code",
   "execution_count": 95,
   "id": "8e9ee3de",
   "metadata": {},
   "outputs": [
    {
     "name": "stdout",
     "output_type": "stream",
     "text": [
      "dict_items([('Hans', 'active'), ('Éléonore', 'inactive'), ('景太郎', 'active')])\n",
      "active\n"
     ]
    }
   ],
   "source": [
    "# loops can be tricky because we are iterating and modifying a set of objects\n",
    "\n",
    "# there are two strategies to deal with this\n",
    "\n",
    "# example, we create a dictionary {}\n",
    "# this has different elements which are key: value pairs pairs (i.e. key = Hans, value = active)\n",
    "# we can call different items from this dictionary using users.items()\n",
    "users = {'Hans': 'active', 'Éléonore': 'inactive', '景太郎': 'active'}\n",
    "print(users.items())\n",
    "print(users['Hans'])"
   ]
  },
  {
   "cell_type": "code",
   "execution_count": 93,
   "id": "1b9a043c",
   "metadata": {},
   "outputs": [
    {
     "name": "stdout",
     "output_type": "stream",
     "text": [
      "{'Hans': 'active', '景太郎': 'active'}\n"
     ]
    }
   ],
   "source": [
    "# 1. Iterate over a copy\n",
    "\n",
    "for user, status in users.copy().items():\n",
    "    if status == 'inactive':\n",
    "        del users[user]\n",
    "\n",
    "print(users)"
   ]
  },
  {
   "cell_type": "code",
   "execution_count": 96,
   "id": "db51de91",
   "metadata": {},
   "outputs": [
    {
     "data": {
      "text/plain": [
       "'for key,value in d.items():\\n         print(key,\":\",value)'"
      ]
     },
     "execution_count": 96,
     "metadata": {},
     "output_type": "execute_result"
    }
   ],
   "source": [
    "# it's quite confusing what is happening with the for loop above\n",
    "# https://kanoki.org/2019/12/04/how-to-iterate-through-a-python-dictionary/\n",
    "\n",
    "# I think it means that, for each key, value pair in d.items\n",
    "# therefore, the first thing is the name we assign to the key (i.e. user above)\n",
    "# the second thing is the name we assign to the value (i.e. status above)\n",
    "\"\"\"for key,value in d.items():\n",
    "         print(key,\":\",value)\"\"\"\n",
    "\n",
    "# this allows us to loop over each key-value pair"
   ]
  },
  {
   "cell_type": "code",
   "execution_count": 97,
   "id": "7ebb4c80",
   "metadata": {},
   "outputs": [
    {
     "name": "stdout",
     "output_type": "stream",
     "text": [
      "{'Hans': 'active', '景太郎': 'active'}\n"
     ]
    }
   ],
   "source": [
    "# 2. make a new output file\n",
    "active_users = {}\n",
    "for user, status in users.items():\n",
    "    if status == 'active':\n",
    "        active_users[user] = status\n",
    "\n",
    "print(active_users)"
   ]
  },
  {
   "cell_type": "code",
   "execution_count": 105,
   "id": "8fe98dc6",
   "metadata": {},
   "outputs": [
    {
     "name": "stdout",
     "output_type": "stream",
     "text": [
      "[0, 1, 2, 3, 4, 5, 6, 7, 8, 9]\n",
      "[5, 6, 7, 8, 9]\n",
      "[5, 7, 9]\n"
     ]
    }
   ],
   "source": [
    "# the range() function for iterating over a range of numbers\n",
    "\n",
    "# this generates a range of integers from 0 but not including 10\n",
    "x = range(10)\n",
    "print( list(x) )\n",
    "\n",
    "# we can also specify the starting and end points for range\n",
    "y = range(5, 10)\n",
    "print( list(y) )\n",
    "\n",
    "# we can also specify the starting and end points along with a step\n",
    "z = range(5, 10, 2)\n",
    "print( list(z) )"
   ]
  },
  {
   "cell_type": "code",
   "execution_count": 106,
   "id": "cc145080",
   "metadata": {},
   "outputs": [
    {
     "name": "stdout",
     "output_type": "stream",
     "text": [
      "0\n",
      "1\n",
      "2\n",
      "3\n",
      "4\n",
      "5\n",
      "6\n",
      "7\n",
      "8\n",
      "9\n"
     ]
    }
   ],
   "source": [
    "# for iteration, therefore, we can do something like this:\n",
    "for i in range(10):\n",
    "    print(i)"
   ]
  },
  {
   "cell_type": "code",
   "execution_count": null,
   "id": "6628b1ce",
   "metadata": {},
   "outputs": [],
   "source": []
  },
  {
   "cell_type": "code",
   "execution_count": null,
   "id": "530275f4",
   "metadata": {},
   "outputs": [],
   "source": []
  },
  {
   "cell_type": "code",
   "execution_count": null,
   "id": "1d944c9a",
   "metadata": {},
   "outputs": [],
   "source": []
  },
  {
   "cell_type": "code",
   "execution_count": null,
   "id": "6140e183",
   "metadata": {},
   "outputs": [],
   "source": []
  }
 ],
 "metadata": {
  "kernelspec": {
   "display_name": "Python 3 (ipykernel)",
   "language": "python",
   "name": "python3"
  },
  "language_info": {
   "codemirror_mode": {
    "name": "ipython",
    "version": 3
   },
   "file_extension": ".py",
   "mimetype": "text/x-python",
   "name": "python",
   "nbconvert_exporter": "python",
   "pygments_lexer": "ipython3",
   "version": "3.9.7"
  }
 },
 "nbformat": 4,
 "nbformat_minor": 5
}
