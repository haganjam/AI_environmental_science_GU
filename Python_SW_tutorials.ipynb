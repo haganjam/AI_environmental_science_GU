{
 "cells": [
  {
   "cell_type": "code",
   "execution_count": null,
   "id": "833f463c",
   "metadata": {},
   "outputs": [],
   "source": [
    "# Software carpentry Python tutorials\n",
    "\n",
    "# https://swcarpentry.github.io/python-novice-inflammation-2.7/index.html"
   ]
  },
  {
   "cell_type": "code",
   "execution_count": null,
   "id": "e9793dd0",
   "metadata": {},
   "outputs": [],
   "source": [
    "# Analysing patient data"
   ]
  },
  {
   "cell_type": "code",
   "execution_count": 2,
   "id": "e3bf120c",
   "metadata": {},
   "outputs": [
    {
     "name": "stdout",
     "output_type": "stream",
     "text": [
      "Current working directory: C:\\Users\\james\\Documents\\Python_projects\\AI_environmental_science_GU\n"
     ]
    }
   ],
   "source": [
    "# load numpy library and the os library (for checking working directories)\n",
    "import numpy\n",
    "import os\n",
    "\n",
    "# check the current working directory\n",
    "cwd = os.getcwd()\n",
    "\n",
    "# Print the current working directory\n",
    "print(\"Current working directory: {0}\".format(cwd))"
   ]
  },
  {
   "cell_type": "code",
   "execution_count": 3,
   "id": "894093ca",
   "metadata": {},
   "outputs": [
    {
     "data": {
      "text/plain": [
       "array([[0., 0., 1., ..., 3., 0., 0.],\n",
       "       [0., 1., 2., ..., 1., 0., 1.],\n",
       "       [0., 1., 1., ..., 2., 1., 1.],\n",
       "       ...,\n",
       "       [0., 1., 1., ..., 1., 1., 1.],\n",
       "       [0., 0., 0., ..., 0., 2., 0.],\n",
       "       [0., 0., 1., ..., 1., 1., 0.]])"
      ]
     },
     "execution_count": 3,
     "metadata": {},
     "output_type": "execute_result"
    }
   ],
   "source": [
    "# use the numpy library to load some data\n",
    "numpy.loadtxt(fname='data_practice/inflammation-01.csv', delimiter=',')"
   ]
  },
  {
   "cell_type": "code",
   "execution_count": 6,
   "id": "d45437af",
   "metadata": {},
   "outputs": [
    {
     "name": "stdout",
     "output_type": "stream",
     "text": [
      "[[0. 0. 1. ... 3. 0. 0.]\n",
      " [0. 1. 2. ... 1. 0. 1.]\n",
      " [0. 1. 1. ... 2. 1. 1.]\n",
      " ...\n",
      " [0. 1. 1. ... 1. 1. 1.]\n",
      " [0. 0. 0. ... 0. 2. 0.]\n",
      " [0. 0. 1. ... 1. 1. 0.]]\n"
     ]
    }
   ],
   "source": [
    "# we want to assign this data to an object so that we can work with it\n",
    "data = numpy.loadtxt(fname='data_practice/inflammation-01.csv', delimiter=',')\n",
    "\n",
    "print(data)"
   ]
  },
  {
   "cell_type": "code",
   "execution_count": 7,
   "id": "e283a620",
   "metadata": {},
   "outputs": [
    {
     "name": "stdout",
     "output_type": "stream",
     "text": [
      "<class 'numpy.ndarray'>\n"
     ]
    }
   ],
   "source": [
    "# check what type of data we have\n",
    "print(type(data))"
   ]
  },
  {
   "cell_type": "code",
   "execution_count": 9,
   "id": "d6b1ce8c",
   "metadata": {},
   "outputs": [
    {
     "name": "stdout",
     "output_type": "stream",
     "text": [
      "(60, 40)\n"
     ]
    }
   ],
   "source": [
    "# check the shape of the data\n",
    "print(data.shape)\n",
    "\n",
    "# we know that there are 60 patients and 40 days of inflammation measurements\n",
    "\n",
    "# note that the shape is an attribute of our data object which we called with a period"
   ]
  },
  {
   "cell_type": "code",
   "execution_count": 12,
   "id": "e2533cb6",
   "metadata": {},
   "outputs": [
    {
     "data": {
      "text/plain": [
       "array([1., 1., 0., 1., 0., 0., 0., 0., 1., 1., 1., 0., 0., 1., 1., 0., 0.,\n",
       "       0., 1., 1., 0., 0., 1., 1., 0., 0., 0., 0., 0., 1., 0., 1., 0., 0.,\n",
       "       0., 1., 1., 1., 1., 0., 0., 1., 0., 1., 1., 0., 1., 0., 0., 1., 1.,\n",
       "       0., 0., 1., 0., 1., 1., 0., 0.])"
      ]
     },
     "execution_count": 12,
     "metadata": {},
     "output_type": "execute_result"
    }
   ],
   "source": [
    "# then we have indexing which I already know how to\n",
    "data[1, 1]\n",
    "\n",
    "data[1:, 1]"
   ]
  },
  {
   "cell_type": "code",
   "execution_count": 16,
   "id": "290b07ec",
   "metadata": {},
   "outputs": [
    {
     "name": "stdout",
     "output_type": "stream",
     "text": [
      "[[0. 0. 2. ... 6. 0. 0.]\n",
      " [0. 2. 4. ... 2. 0. 2.]\n",
      " [0. 2. 2. ... 4. 2. 2.]\n",
      " ...\n",
      " [0. 2. 2. ... 2. 2. 2.]\n",
      " [0. 0. 0. ... 0. 4. 0.]\n",
      " [0. 0. 2. ... 2. 2. 0.]]\n",
      "(60, 40)\n"
     ]
    }
   ],
   "source": [
    "# the useful thing about arrays is that many mathematical operations can be done on them\n",
    "\n",
    "# multiply the array by 2 then we multiply each value by 2\n",
    "double_data = (data * 2)\n",
    "print(double_data)\n",
    "\n",
    "# in addition, if arrays have the same dimensions, then we can just add them up\n",
    "triple_data = double_data + data\n",
    "print(triple_data.shape)"
   ]
  },
  {
   "cell_type": "code",
   "execution_count": 22,
   "id": "51c94fe0",
   "metadata": {},
   "outputs": [
    {
     "name": "stdout",
     "output_type": "stream",
     "text": [
      "6.14875\n",
      "20.0\n",
      "0.0\n",
      "4.613833197118566\n"
     ]
    }
   ],
   "source": [
    "# we can also do other simple arithmetic operations on the array\n",
    "\n",
    "# these are methods that are included in the array\n",
    "print( data.mean() )\n",
    "print( data.max() )\n",
    "print( data.min() )\n",
    "print( data.std() )"
   ]
  },
  {
   "cell_type": "code",
   "execution_count": 26,
   "id": "50cb7001",
   "metadata": {},
   "outputs": [
    {
     "data": {
      "text/plain": [
       "1.1166666666666667"
      ]
     },
     "execution_count": 26,
     "metadata": {},
     "output_type": "execute_result"
    }
   ],
   "source": [
    "# usually, we want to do computations on parts of an array so we can simply subset it\n",
    "\n",
    "# what is the mean of all patients on day 1\n",
    "data[0:, 2].mean()"
   ]
  },
  {
   "cell_type": "code",
   "execution_count": 27,
   "id": "8f213b85",
   "metadata": {},
   "outputs": [
    {
     "data": {
      "image/png": "[encoded data removed]",
      "text/plain": [
       "<Figure size 432x288 with 1 Axes>"
      ]
     },
     "metadata": {
      "needs_background": "light"
     },
     "output_type": "display_data"
    }
   ],
   "source": [
    "# data visualisation using matplotlib\n",
    "\n",
    "import matplotlib.pyplot\n",
    "image  = matplotlib.pyplot.imshow(data)\n",
    "matplotlib.pyplot.show(image)"
   ]
  },
  {
   "cell_type": "code",
   "execution_count": 33,
   "id": "f9395240",
   "metadata": {},
   "outputs": [
    {
     "name": "stdout",
     "output_type": "stream",
     "text": [
      "(60, 40)\n",
      "(40,)\n"
     ]
    },
    {
     "data": {
      "image/png": "[encoded data removed]",
      "text/plain": [
       "<Figure size 432x288 with 1 Axes>"
      ]
     },
     "metadata": {
      "needs_background": "light"
     },
     "output_type": "display_data"
    }
   ],
   "source": [
    "# plot the average inflammation over time\n",
    "\n",
    "# this tells python to calculate average across rows for each column\n",
    "ave_inflammation = data.mean(axis=0)\n",
    "print(data.shape)\n",
    "print(ave_inflammation.shape)\n",
    "ave_plot = matplotlib.pyplot.plot(ave_inflammation)\n",
    "matplotlib.pyplot.show(ave_plot)"
   ]
  },
  {
   "cell_type": "code",
   "execution_count": 34,
   "id": "34863ce3",
   "metadata": {},
   "outputs": [
    {
     "name": "stdout",
     "output_type": "stream",
     "text": [
      "(60, 40)\n",
      "(60,)\n",
      "[5.45  5.425 6.1   5.9   5.55  6.225 5.975 6.65  6.625 6.525 6.775 5.8\n",
      " 6.225 5.75  5.225 6.3   6.55  5.7   5.85  6.55  5.775 5.825 6.175 6.1\n",
      " 5.8   6.425 6.05  6.025 6.175 6.55  6.175 6.35  6.725 6.125 7.075 5.725\n",
      " 5.925 6.15  6.075 5.75  5.975 5.725 6.3   5.9   6.75  5.925 7.225 6.15\n",
      " 5.95  6.275 5.7   6.1   6.825 5.975 6.725 5.7   6.25  6.4   7.05  5.9  ]\n"
     ]
    },
    {
     "data": {
      "image/png": "[encoded data removed]",
      "text/plain": [
       "<Figure size 432x288 with 1 Axes>"
      ]
     },
     "metadata": {
      "needs_background": "light"
     },
     "output_type": "display_data"
    }
   ],
   "source": [
    "# this tells python to calculate the average for each patient\n",
    "ave_inflammation = data.mean(axis=1)\n",
    "print(data.shape)\n",
    "print(ave_inflammation.shape)\n",
    "print(ave_inflammation)\n",
    "ave_plot = matplotlib.pyplot.plot(ave_inflammation)\n",
    "matplotlib.pyplot.show(ave_plot)"
   ]
  },
  {
   "cell_type": "code",
   "execution_count": 35,
   "id": "e901f956",
   "metadata": {},
   "outputs": [
    {
     "data": {
      "image/png": "[encoded data removed]",
      "text/plain": [
       "<Figure size 720x216 with 3 Axes>"
      ]
     },
     "metadata": {
      "needs_background": "light"
     },
     "output_type": "display_data"
    }
   ],
   "source": [
    "# plotting in matplotlib is a bit more complicated than in R's ggplot\n",
    "\n",
    "import numpy\n",
    "import matplotlib.pyplot\n",
    "\n",
    "data = numpy.loadtxt(fname='data_practice/inflammation-01.csv', delimiter=',')\n",
    "\n",
    "# tell matplotlib to create a figure with a certain size\n",
    "fig = matplotlib.pyplot.figure(figsize=(10.0, 3.0))\n",
    "\n",
    "# then we tell it to add three subplots\n",
    "axes1 = fig.add_subplot(1, 3, 1)\n",
    "axes2 = fig.add_subplot(1, 3, 2)\n",
    "axes3 = fig.add_subplot(1, 3, 3)\n",
    "\n",
    "axes1.set_ylabel('average')\n",
    "axes1.plot(data.mean(axis=0))\n",
    "\n",
    "axes2.set_ylabel('max')\n",
    "axes2.plot(data.max(axis=0))\n",
    "\n",
    "axes3.set_ylabel('min')\n",
    "axes3.plot(data.min(axis=0))\n",
    "\n",
    "fig.tight_layout()\n",
    "\n",
    "matplotlib.pyplot.show(fig)"
   ]
  },
  {
   "cell_type": "code",
   "execution_count": 36,
   "id": "d93ac042",
   "metadata": {},
   "outputs": [
    {
     "data": {
      "text/plain": [
       "<function numpy.loadtxt(fname, dtype=<class 'float'>, comments='#', delimiter=None, converters=None, skiprows=0, usecols=None, unpack=False, ndmin=0, encoding='bytes', max_rows=None, *, like=None)>"
      ]
     },
     "execution_count": 36,
     "metadata": {},
     "output_type": "execute_result"
    }
   ],
   "source": [
    "# if you import numpy, you can also create a shortcut which saves typing\n",
    "\n",
    "# this is handy if you are using numpy a lot\n",
    "import numpy as np\n",
    "np.loadtxt"
   ]
  },
  {
   "cell_type": "code",
   "execution_count": null,
   "id": "37388c6b",
   "metadata": {},
   "outputs": [],
   "source": [
    "# Repeating things with for loops"
   ]
  },
  {
   "cell_type": "code",
   "execution_count": null,
   "id": "2d59e51b",
   "metadata": {},
   "outputs": [],
   "source": [
    "# general structure of a for loop is this:\n",
    "\n",
    "# you can name the word \"variable\" anything as long as the collection has some list of things to do things on\n",
    "\n",
    "# in addition, we must indent anything that we want to run inside the loop\n",
    "\n",
    "for variable in collection:\n",
    "    do things with variable"
   ]
  },
  {
   "cell_type": "code",
   "execution_count": 38,
   "id": "fe3ff64b",
   "metadata": {},
   "outputs": [
    {
     "name": "stdout",
     "output_type": "stream",
     "text": [
      "a\n",
      "b\n",
      "c\n",
      "after the loop, letter is c\n",
      "c\n"
     ]
    }
   ],
   "source": [
    "# as an example\n",
    "\n",
    "# here it's important to notice that the variable letter gets assigned a value at each iteration of the loop\n",
    "letter = 'z'\n",
    "for letter in 'abc':\n",
    "    print(letter)\n",
    "print('after the loop, letter is', letter)\n",
    "print(letter)"
   ]
  },
  {
   "cell_type": "code",
   "execution_count": 51,
   "id": "d8e7c75e",
   "metadata": {},
   "outputs": [
    {
     "name": "stdout",
     "output_type": "stream",
     "text": [
      "125\n"
     ]
    }
   ],
   "source": [
    "# exercise\n",
    "\n",
    "# write a loop to get to 125 i.e. 5 ** 3 by multiplication\n",
    "number = 5\n",
    "for i in range(2):\n",
    "    number = number*5\n",
    "print(number)"
   ]
  },
  {
   "cell_type": "code",
   "execution_count": 98,
   "id": "fbef8ac1",
   "metadata": {},
   "outputs": [
    {
     "name": "stdout",
     "output_type": "stream",
     "text": [
      "notweN\n"
     ]
    }
   ],
   "source": [
    "# exercise\n",
    "\n",
    "# write a loop that reverses the order of characters in a string: Newton\n",
    "x = 'Newton'\n",
    "y = \"\"\n",
    "for i in range(1, len(x)+1):\n",
    "    y = y + (x[-i])\n",
    "print(y)"
   ]
  },
  {
   "cell_type": "code",
   "execution_count": 101,
   "id": "624d6eec",
   "metadata": {},
   "outputs": [
    {
     "name": "stdout",
     "output_type": "stream",
     "text": [
      "notweN\n"
     ]
    }
   ],
   "source": [
    "# solution from software carpentry\n",
    "\n",
    "newstring = '' \n",
    "oldstring = 'Newton' \n",
    "length_old = len(oldstring) \n",
    "for char_index in range(length_old): \n",
    "    newstring = newstring + oldstring[length_old-char_index-1] \n",
    "print(newstring)"
   ]
  },
  {
   "cell_type": "code",
   "execution_count": null,
   "id": "f2ff562d",
   "metadata": {},
   "outputs": [],
   "source": []
  },
  {
   "cell_type": "code",
   "execution_count": null,
   "id": "b1b144da",
   "metadata": {},
   "outputs": [],
   "source": []
  },
  {
   "cell_type": "code",
   "execution_count": null,
   "id": "075d359f",
   "metadata": {},
   "outputs": [],
   "source": []
  }
 ],
 "metadata": {
  "kernelspec": {
   "display_name": "Python 3 (ipykernel)",
   "language": "python",
   "name": "python3"
  },
  "language_info": {
   "codemirror_mode": {
    "name": "ipython",
    "version": 3
   },
   "file_extension": ".py",
   "mimetype": "text/x-python",
   "name": "python",
   "nbconvert_exporter": "python",
   "pygments_lexer": "ipython3",
   "version": "3.9.7"
  }
 },
 "nbformat": 4,
 "nbformat_minor": 5
}
